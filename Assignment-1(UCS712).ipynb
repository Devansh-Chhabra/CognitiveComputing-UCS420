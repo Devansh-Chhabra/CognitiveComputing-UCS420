{
 "cells": [
  {
   "cell_type": "code",
   "execution_count": 1,
   "metadata": {
    "colab": {
     "base_uri": "https://localhost:8080/"
    },
    "collapsed": true,
    "executionInfo": {
     "elapsed": 441,
     "status": "ok",
     "timestamp": 1736698149546,
     "user": {
      "displayName": "DEVANSH CHHABRA",
      "userId": "04150591079641530056"
     },
     "user_tz": -330
    },
    "id": "DnHuKXDzQ9_N",
    "outputId": "2c830d7f-5668-49e8-de88-f4473cba9640"
   },
   "outputs": [
    {
     "name": "stdout",
     "output_type": "stream",
     "text": [
      "Devansh Chhabra\n",
      "Devansh Chhabra\n",
      "Devansh Chhabra\n"
     ]
    }
   ],
   "source": [
    "# Assignment 1.1: WAP to print your name three times\n",
    "\n",
    "index = 0\n",
    "while(index < 3):\n",
    "  print(\"Devansh Chhabra\")\n",
    "  index = index + 1"
   ]
  },
  {
   "cell_type": "code",
   "execution_count": 2,
   "metadata": {
    "colab": {
     "base_uri": "https://localhost:8080/"
    },
    "collapsed": true,
    "executionInfo": {
     "elapsed": 410,
     "status": "ok",
     "timestamp": 1736698914232,
     "user": {
      "displayName": "DEVANSH CHHABRA",
      "userId": "04150591079641530056"
     },
     "user_tz": -330
    },
    "id": "rwbSeWuTRswi",
    "outputId": "8131b593-b91d-4c90-8e09-29e501466996"
   },
   "outputs": [
    {
     "name": "stdout",
     "output_type": "stream",
     "text": [
      "Sum is :  6\n",
      "Sum is :  123\n"
     ]
    }
   ],
   "source": [
    "# Assignment 2.1: WAP to add three numbers and print the result.\n",
    "# Assignment 2.2: WAP to concatinate three strings and print the result.\n",
    "\n",
    "def calSum(a,b,c):\n",
    "  return (a+b+c)\n",
    "\n",
    "a = 1\n",
    "b = 2\n",
    "c = 3\n",
    "sum = calSum(a,b,c)\n",
    "print(\"Sum is : \",sum)\n",
    "\n",
    "a = '1'\n",
    "b = '2'\n",
    "c = '3'\n",
    "sum = calSum(a,b,c)\n",
    "print(\"Sum is : \",sum)"
   ]
  },
  {
   "cell_type": "code",
   "execution_count": 5,
   "metadata": {
    "colab": {
     "base_uri": "https://localhost:8080/"
    },
    "collapsed": true,
    "executionInfo": {
     "elapsed": 12855,
     "status": "ok",
     "timestamp": 1736699939546,
     "user": {
      "displayName": "DEVANSH CHHABRA",
      "userId": "04150591079641530056"
     },
     "user_tz": -330
    },
    "id": "eccwrDc1Wu6P",
    "outputId": "f1d3f8e3-d122-46c8-ab4b-af1b61327c00"
   },
   "outputs": [
    {
     "name": "stdout",
     "output_type": "stream",
     "text": [
      "Table of 7\n",
      "7 * 1 = 7\n",
      "7 * 2 = 14\n",
      "7 * 3 = 21\n",
      "7 * 4 = 28\n",
      "7 * 5 = 35\n",
      "7 * 6 = 42\n",
      "7 * 7 = 49\n",
      "7 * 8 = 56\n",
      "7 * 9 = 63\n",
      "7 * 10 = 70\n",
      "\n",
      "Table of 9\n",
      "9 * 1 = 9\n",
      "9 * 2 = 18\n",
      "9 * 3 = 27\n",
      "9 * 4 = 36\n",
      "9 * 5 = 45\n",
      "9 * 6 = 54\n",
      "9 * 7 = 63\n",
      "9 * 8 = 72\n",
      "9 * 9 = 81\n",
      "9 * 10 = 90\n",
      "\n",
      "Enter the number: 5\n",
      "Table of 5\n",
      "5 * 1 = 5\n",
      "5 * 2 = 10\n",
      "5 * 3 = 15\n",
      "5 * 4 = 20\n",
      "5 * 5 = 25\n",
      "5 * 6 = 30\n",
      "5 * 7 = 35\n",
      "5 * 8 = 40\n",
      "5 * 9 = 45\n",
      "5 * 10 = 50\n",
      "\n",
      "Enter the number: 7\n",
      "Sum of First 7 Natural Numbers is : 28\n"
     ]
    }
   ],
   "source": [
    "# Assignment 4.1: WAP to print the table of 7, 9.\n",
    "# Assignment 4.2: WAP to print the table of n and n is given by user.\n",
    "# Assignment 4.3: WAP to add all the numbers from 1 to n and n is given by user.\n",
    "\n",
    "def printTable(n):\n",
    "  print(\"Table of\",n)\n",
    "  for i in range(1,11):\n",
    "    prod = i * n\n",
    "    print(n,\"*\",i,\"=\",prod)\n",
    "\n",
    "def sumOfNumbers(n):\n",
    "  sum = 0\n",
    "  for i in range(1,n+1):\n",
    "    sum = sum + i\n",
    "  print(\"Sum of First\",n,\"Natural Numbers is :\",sum)\n",
    "\n",
    "printTable(7)\n",
    "print()\n",
    "printTable(9)\n",
    "print()\n",
    "\n",
    "n = int(input(\"Enter the number: \"))\n",
    "printTable(n)\n",
    "print()\n",
    "\n",
    "n = int(input(\"Enter the number: \"))\n",
    "sumOfNumbers(n)"
   ]
  },
  {
   "cell_type": "code",
   "execution_count": 13,
   "metadata": {
    "colab": {
     "base_uri": "https://localhost:8080/"
    },
    "collapsed": true,
    "executionInfo": {
     "elapsed": 13417,
     "status": "ok",
     "timestamp": 1736701188367,
     "user": {
      "displayName": "DEVANSH CHHABRA",
      "userId": "04150591079641530056"
     },
     "user_tz": -330
    },
    "id": "OqznZw9DYibe",
    "outputId": "34858cb0-8fbd-423a-d7a7-ca6418daa0b6"
   },
   "outputs": [
    {
     "name": "stdout",
     "output_type": "stream",
     "text": [
      "Enter the number : 13\n",
      "Enter the number : 2\n",
      "Enter the number : 23\n",
      "Maximum Number from 13 2 23 is: 23\n",
      "\n",
      "Enter the number : 200\n",
      "Sum of Number is 378\n",
      "\n",
      "Enter the number : 10\n",
      "Sum of Primes is 17\n"
     ]
    }
   ],
   "source": [
    "# Assignment 5.1: WAP to find max amoung three numbers and input from user. [Try max() function]\n",
    "# Assignment 5.2: WAP to add all numbers divisible by 7 and 9 from 1 to n and n is given by the user.\n",
    "# Assignment 5.3: WAP to add all prime numbers from 1 to n and n is given by the user.\n",
    "\n",
    "a = int(input(\"Enter the number : \"))\n",
    "b = int(input(\"Enter the number : \"))\n",
    "c = int(input(\"Enter the number : \"))\n",
    "print(\"Maximum Number from\",a,b,c,\"is:\",max(a,b,c))\n",
    "print()\n",
    "\n",
    "\n",
    "\n",
    "\n",
    "def sumOfNumbers(a,b,c):\n",
    "  sum = 0\n",
    "  for i in range(1,c+1):\n",
    "    if (i % (a*b) == 0):\n",
    "      sum = sum + i;\n",
    "  return sum\n",
    "\n",
    "n = int(input(\"Enter the number : \"))\n",
    "ans = sumOfNumbers(7,9,n)\n",
    "print(\"Sum of Number is\",ans)\n",
    "print()\n",
    "\n",
    "\n",
    "\n",
    "\n",
    "\n",
    "def isPrime(n):\n",
    "  for i in range(2,n):\n",
    "    if(n % i == 0):\n",
    "      return False\n",
    "  return True\n",
    "\n",
    "def sumOfPrimes(n):\n",
    "  sum = 0\n",
    "  for i in range(2,n+1):\n",
    "    if isPrime(i):\n",
    "      sum = sum + i\n",
    "  return sum\n",
    "\n",
    "\n",
    "n = int(input(\"Enter the number : \"))\n",
    "sum = sumOfPrimes(n)\n",
    "print(\"Sum of Primes is\",sum)"
   ]
  },
  {
   "cell_type": "code",
   "execution_count": 14,
   "metadata": {
    "colab": {
     "base_uri": "https://localhost:8080/"
    },
    "collapsed": true,
    "executionInfo": {
     "elapsed": 16085,
     "status": "ok",
     "timestamp": 1736701916381,
     "user": {
      "displayName": "DEVANSH CHHABRA",
      "userId": "04150591079641530056"
     },
     "user_tz": -330
    },
    "id": "p7LQjfEudTjp",
    "outputId": "5a305e27-074f-4900-c333-06c24eb850ce"
   },
   "outputs": [
    {
     "name": "stdout",
     "output_type": "stream",
     "text": [
      "Enter the number : 5\n",
      "Sum of Odd Numbers is :  9\n",
      "\n",
      "Enter the number : 10\n",
      "Sum of Primes is 17\n"
     ]
    }
   ],
   "source": [
    "# Assignment 6.1: WAP using function that add all odd numbers from 1 to n, n is given by the user.\n",
    "# Assignment 6.2: WAP using function that add all prime numbers from 1 to n, n given by the user.\n",
    "\n",
    "def sumOdd(n):\n",
    "  sum = 0\n",
    "  for i in range(1,n+1):\n",
    "    if(i % 2 != 0):\n",
    "      sum += i\n",
    "  return sum\n",
    "\n",
    "n = int(input(\"Enter the number : \"))\n",
    "sum = sumOdd(n)\n",
    "print(\"Sum of Odd Numbers is : \",sum)\n",
    "print()\n",
    "\n",
    "\n",
    "\n",
    "\n",
    "def isPrime(n):\n",
    "  for i in range(2,n):\n",
    "    if(n % i == 0):\n",
    "      return False\n",
    "  return True\n",
    "\n",
    "def sumOfPrimes(n):\n",
    "  sum = 0\n",
    "  for i in range(2,n+1):\n",
    "    if isPrime(i):\n",
    "      sum = sum + i\n",
    "  return sum\n",
    "\n",
    "\n",
    "n = int(input(\"Enter the number : \"))\n",
    "sum = sumOfPrimes(n)\n",
    "print(\"Sum of Primes is\",sum)"
   ]
  }
 ],
 "metadata": {
  "colab": {
   "authorship_tag": "ABX9TyOr7qBjduvjMg0hMT8hHEYw",
   "provenance": []
  },
  "kernelspec": {
   "display_name": "Python 3",
   "name": "python3"
  },
  "language_info": {
   "name": "python"
  }
 },
 "nbformat": 4,
 "nbformat_minor": 0
}
